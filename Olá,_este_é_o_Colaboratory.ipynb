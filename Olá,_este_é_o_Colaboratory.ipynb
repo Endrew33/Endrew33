{
  "cells": [
    {
      "cell_type": "markdown",
      "metadata": {
        "id": "view-in-github",
        "colab_type": "text"
      },
      "source": [
        "<a href=\"https://colab.research.google.com/github/Endrew33/Endrew33/blob/main/Ol%C3%A1%2C_este_%C3%A9_o_Colaboratory.ipynb\" target=\"_parent\"><img src=\"https://colab.research.google.com/assets/colab-badge.svg\" alt=\"Open In Colab\"/></a>"
      ]
    },
    {
      "cell_type": "code",
      "source": [
        "#Dissecando uma Variável\n",
        "a = input('Diginte algo: ')\n",
        "print('O tipo primitivo desse valor é ', type(a))\n",
        "print('Só tem espacços? ',a.isspace())\n",
        "print('É um número? ', a.isnumeric())\n",
        "print('É alfabético? ', a.isalpha())\n",
        "print('É alfanumérico? ', a.isalnum())\n",
        "print('Está em maiúculas? ', a.islower())\n",
        "print('Está em minúsulas? ', a.islower())\n",
        "print('Está capitalizada? ', a.istitle())"
      ],
      "metadata": {
        "colab": {
          "base_uri": "https://localhost:8080/"
        },
        "id": "WNudHm31d1Z3",
        "outputId": "5449bf2b-e9f4-47af-b341-cc413d3097bd"
      },
      "execution_count": null,
      "outputs": [
        {
          "output_type": "stream",
          "name": "stdout",
          "text": [
            "Diginte algo: Ceição\n",
            "O tipo primitivo desse valor é  <class 'str'>\n",
            "Só tem espacços?  False\n",
            "É um número?  False\n",
            "É alfabético?  True\n",
            "É alfanumérico?  True\n",
            "Está em maiúculas?  False\n",
            "Está em minúsulas?  False\n",
            "Está capitalizada?  True\n"
          ]
        }
      ]
    },
    {
      "cell_type": "code",
      "source": [
        " #Média aritmética\n",
        " nota1 = float(input('Primeira nota: '))\n",
        " nota2 = float(input('Segunda nota: '))\n",
        " media = (nota1 + nota2) / 2\n",
        " print('Primeira nota é {} e a segunda nota é {} a média é {}'.format(nota1, nota2, media))\n",
        "\n",
        " # Ou pode se assim (media = nota1 + nota2 / 2) isso é difente. Outra coisa( {:.1f}  {:.1f} )."
      ],
      "metadata": {
        "colab": {
          "base_uri": "https://localhost:8080/"
        },
        "id": "SwZJ5sNNZSBq",
        "outputId": "554baad4-0bf2-485a-d098-061c2a105706"
      },
      "execution_count": 3,
      "outputs": [
        {
          "output_type": "stream",
          "name": "stdout",
          "text": [
            "Primeira nota: 5\n",
            "Segunda nota: 6\n",
            "Primeira nota é 5.0 e a segunda nota é 6.0 a média é 5.5\n"
          ]
        }
      ]
    },
    {
      "cell_type": "code",
      "source": [
        "#Converso de medidas\n",
        "medida = float(input('Uma distância em metros: '))\n",
        "dm = media * 10\n",
        "cm = medida * 100\n",
        "mm = medida * 1000\n",
        "dam = medida /10\n",
        "hm = medida /100\n",
        "km = medida /1000\n",
        "print('A medida de {:.0f}m corresponde a {:.0f}dm'.format(medida, dm))\n",
        "print('A medida de {:.0f}m corresponde a {:.0f}cm'.format(medida, cm))\n",
        "print('A medida de {:.0f}m corresponde a {:.0f}mm'.format(medida, mm))\n",
        "print('A medida de {:.1f}m corresponde a {:.1f}dam'.format(medida, dam))\n",
        "print('A medida de {:.2f}m corresponde a {:.2f}hm'.format(medida, hm))\n",
        "print('A medida de {:.3f}m corresponde a {:.3f}km'.format(medida, km))"
      ],
      "metadata": {
        "colab": {
          "base_uri": "https://localhost:8080/"
        },
        "id": "R7IcTtgDcmVa",
        "outputId": "eda97fcf-a253-4db2-c080-351c6c74a1b4"
      },
      "execution_count": 10,
      "outputs": [
        {
          "output_type": "stream",
          "name": "stdout",
          "text": [
            "Uma distância em metros: 5\n",
            "A medida de 5m corresponde a 55dm\n",
            "A medida de 5m corresponde a 500cm\n",
            "A medida de 5m corresponde a 5000mm\n",
            "A medida de 5.0m corresponde a 0.5dam\n",
            "A medida de 5.00m corresponde a 0.05hm\n",
            "A medida de 5.000m corresponde a 0.005km\n"
          ]
        }
      ]
    },
    {
      "cell_type": "code",
      "source": [
        "#Tabuada\n",
        "numero = int(input('Digite valor: '))\n",
        "print('{} x {:2} = {}'.format(numero, 1, numero*1))\n",
        "print('{} x {:2} = {}'.format(numero, 2, numero*2))\n",
        "print('{} x {:2} = {}'.format(numero, 3, numero*3))\n",
        "print('{} x {:2} = {}'.format(numero, 4, numero*4))\n",
        "print('{} x {:2} = {}'.format(numero, 5, numero*5))\n",
        "print('{} x {:2} = {}'.format(numero, 6, numero*6))\n",
        "print('{} x {:2} = {}'.format(numero, 7, numero*7))\n",
        "print('{} x {:2} = {}'.format(numero, 8, numero*8))\n",
        "print('{} x {:2} = {}'.format(numero, 9, numero*9))\n",
        "print('{} x {:2} = {}'.format(numero, 10, numero*10))\n",
        "#Pode colocar {} x {} = {}, mas coloquei :2 porque? Só para visualizar facíl."
      ],
      "metadata": {
        "colab": {
          "base_uri": "https://localhost:8080/"
        },
        "id": "nW17nS-lj3kQ",
        "outputId": "d145d41b-d58e-4ec2-fb8f-31e6480d6475"
      },
      "execution_count": 13,
      "outputs": [
        {
          "output_type": "stream",
          "name": "stdout",
          "text": [
            "Digite valor: 5\n",
            "5 x  1 = 5\n",
            "5 x  2 = 10\n",
            "5 x  3 = 15\n",
            "5 x  4 = 20\n",
            "5 x  5 = 25\n",
            "5 x  6 = 30\n",
            "5 x  7 = 35\n",
            "5 x  8 = 40\n",
            "5 x  9 = 45\n",
            "5 x 10 = 50\n"
          ]
        }
      ]
    },
    {
      "cell_type": "code",
      "source": [
        "#Converso de moedas\n",
        "real = float(input('Quanto você tem da sua carteira? R$'))\n",
        "dolar = real / 3.27\n",
        "print('Com R${:.2f} você vai tem a dolar US${:.2f}'.format(real, dolar))\n",
        "#Mais não digite assim 1.000,00, digite assim 1000.00, ok?"
      ],
      "metadata": {
        "colab": {
          "base_uri": "https://localhost:8080/"
        },
        "id": "a3p96LgRmki5",
        "outputId": "215d259c-b5bd-4ac8-e41c-ae8a34b52d8a"
      },
      "execution_count": 25,
      "outputs": [
        {
          "output_type": "stream",
          "name": "stdout",
          "text": [
            "Quanto você tem da sua carteira? R$1000.00\n",
            "Com R$1000.00 você vai tem a dolar US$305.81\n"
          ]
        }
      ]
    },
    {
      "cell_type": "code",
      "source": [
        "#Pintando parede\n",
        "largura = float(input('Largura: '))\n",
        "altura = float(input('Altura: '))\n",
        "area = largura * altura\n",
        "print('Sua parede tem {}x{} área fica assim {}m².'.format(largura, altura, area))\n",
        "tinta = area / 2\n",
        "print('Para pintar esse tamanha de parede, e precisar tem de {}l de tinta.'.format(tinta))"
      ],
      "metadata": {
        "colab": {
          "base_uri": "https://localhost:8080/"
        },
        "id": "hOl0UGfcq7Lm",
        "outputId": "545373c3-21f8-4f25-a834-214f02448809"
      },
      "execution_count": 27,
      "outputs": [
        {
          "output_type": "stream",
          "name": "stdout",
          "text": [
            "Largura: 5\n",
            "Altura: 5\n",
            "Sua parede tem 5.0x5.0 área fica assim 25.0m².\n",
            "Para pintar esse tamanha de parede, e precisar tem de 12.5l de tinta.\n"
          ]
        }
      ]
    }
  ],
  "metadata": {
    "colab": {
      "collapsed_sections": [],
      "name": "Olá, este é o Colaboratory",
      "provenance": [],
      "include_colab_link": true
    },
    "kernelspec": {
      "display_name": "Python 3",
      "name": "python3"
    }
  },
  "nbformat": 4,
  "nbformat_minor": 0
}